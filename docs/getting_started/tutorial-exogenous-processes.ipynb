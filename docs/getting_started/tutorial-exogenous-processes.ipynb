{
 "cells": [
  {
   "cell_type": "code",
   "execution_count": 1,
   "metadata": {},
   "outputs": [],
   "source": [
    "import pandas as pd\n",
    "import numpy as np\n",
    "import os\n",
    "import itertools\n",
    "import io\n",
    "import respy as rp"
   ]
  },
  {
   "cell_type": "code",
   "execution_count": 2,
   "metadata": {},
   "outputs": [],
   "source": [
    "params, options = rp.get_example_model(\"robinson_crusoe_basic\", with_data=False)"
   ]
  },
  {
   "cell_type": "code",
   "execution_count": 3,
   "metadata": {},
   "outputs": [],
   "source": [
    "params.loc[(\"nonpec_fishing\", \"sick\"), \"value\"] = -2"
   ]
  },
  {
   "cell_type": "code",
   "execution_count": 4,
   "metadata": {},
   "outputs": [],
   "source": [
    "params.loc[(\"exogenous_process_illness_sick\", \"probability\"), \"value\"] = 0.1\n",
    "params.loc[(\"exogenous_process_illness_healthy\", \"probability\"), \"value\"] = 0.9"
   ]
  },
  {
   "cell_type": "code",
   "execution_count": 5,
   "metadata": {},
   "outputs": [],
   "source": [
    "options[\"covariates\"][\"sick\"] = \"illness == 'sick'\""
   ]
  },
  {
   "cell_type": "code",
   "execution_count": 6,
   "metadata": {},
   "outputs": [],
   "source": [
    "solve = rp.get_solve_func(params, options)"
   ]
  },
  {
   "cell_type": "code",
   "execution_count": 7,
   "metadata": {},
   "outputs": [],
   "source": [
    "ss = solve.keywords[\"state_space\"]"
   ]
  },
  {
   "cell_type": "code",
   "execution_count": 10,
   "metadata": {},
   "outputs": [
    {
     "data": {
      "text/plain": [
       "{(0,): {'illness': array([[0.9, 0.1],\n",
       "         [0.9, 0.1],\n",
       "         [0.9, 0.1],\n",
       "         [0.9, 0.1],\n",
       "         [0.9, 0.1],\n",
       "         [0.9, 0.1],\n",
       "         [0.9, 0.1],\n",
       "         [0.9, 0.1],\n",
       "         [0.9, 0.1],\n",
       "         [0.9, 0.1],\n",
       "         [0.9, 0.1],\n",
       "         [0.9, 0.1],\n",
       "         [0.9, 0.1],\n",
       "         [0.9, 0.1],\n",
       "         [0.9, 0.1],\n",
       "         [0.9, 0.1],\n",
       "         [0.9, 0.1],\n",
       "         [0.9, 0.1],\n",
       "         [0.9, 0.1],\n",
       "         [0.9, 0.1],\n",
       "         [0.9, 0.1],\n",
       "         [0.9, 0.1],\n",
       "         [0.9, 0.1],\n",
       "         [0.9, 0.1],\n",
       "         [0.9, 0.1],\n",
       "         [0.9, 0.1],\n",
       "         [0.9, 0.1],\n",
       "         [0.9, 0.1],\n",
       "         [0.9, 0.1],\n",
       "         [0.9, 0.1],\n",
       "         [0.9, 0.1],\n",
       "         [0.9, 0.1],\n",
       "         [0.9, 0.1],\n",
       "         [0.9, 0.1],\n",
       "         [0.9, 0.1],\n",
       "         [0.9, 0.1],\n",
       "         [0.9, 0.1],\n",
       "         [0.9, 0.1],\n",
       "         [0.9, 0.1],\n",
       "         [0.9, 0.1],\n",
       "         [0.9, 0.1],\n",
       "         [0.9, 0.1],\n",
       "         [0.9, 0.1],\n",
       "         [0.9, 0.1],\n",
       "         [0.9, 0.1],\n",
       "         [0.9, 0.1],\n",
       "         [0.9, 0.1],\n",
       "         [0.9, 0.1],\n",
       "         [0.9, 0.1],\n",
       "         [0.9, 0.1],\n",
       "         [0.9, 0.1],\n",
       "         [0.9, 0.1],\n",
       "         [0.9, 0.1],\n",
       "         [0.9, 0.1],\n",
       "         [0.9, 0.1],\n",
       "         [0.9, 0.1],\n",
       "         [0.9, 0.1],\n",
       "         [0.9, 0.1],\n",
       "         [0.9, 0.1],\n",
       "         [0.9, 0.1],\n",
       "         [0.9, 0.1],\n",
       "         [0.9, 0.1],\n",
       "         [0.9, 0.1],\n",
       "         [0.9, 0.1],\n",
       "         [0.9, 0.1],\n",
       "         [0.9, 0.1],\n",
       "         [0.9, 0.1],\n",
       "         [0.9, 0.1],\n",
       "         [0.9, 0.1],\n",
       "         [0.9, 0.1],\n",
       "         [0.9, 0.1],\n",
       "         [0.9, 0.1],\n",
       "         [0.9, 0.1],\n",
       "         [0.9, 0.1],\n",
       "         [0.9, 0.1],\n",
       "         [0.9, 0.1],\n",
       "         [0.9, 0.1],\n",
       "         [0.9, 0.1],\n",
       "         [0.9, 0.1],\n",
       "         [0.9, 0.1],\n",
       "         [0.9, 0.1],\n",
       "         [0.9, 0.1],\n",
       "         [0.9, 0.1],\n",
       "         [0.9, 0.1],\n",
       "         [0.9, 0.1],\n",
       "         [0.9, 0.1],\n",
       "         [0.9, 0.1],\n",
       "         [0.9, 0.1],\n",
       "         [0.9, 0.1],\n",
       "         [0.9, 0.1],\n",
       "         [0.9, 0.1]])}, (1,): {'illness': array([[0.9, 0.1],\n",
       "         [0.9, 0.1],\n",
       "         [0.9, 0.1],\n",
       "         [0.9, 0.1],\n",
       "         [0.9, 0.1],\n",
       "         [0.9, 0.1],\n",
       "         [0.9, 0.1],\n",
       "         [0.9, 0.1],\n",
       "         [0.9, 0.1],\n",
       "         [0.9, 0.1],\n",
       "         [0.9, 0.1],\n",
       "         [0.9, 0.1],\n",
       "         [0.9, 0.1],\n",
       "         [0.9, 0.1],\n",
       "         [0.9, 0.1],\n",
       "         [0.9, 0.1],\n",
       "         [0.9, 0.1],\n",
       "         [0.9, 0.1],\n",
       "         [0.9, 0.1],\n",
       "         [0.9, 0.1],\n",
       "         [0.9, 0.1],\n",
       "         [0.9, 0.1],\n",
       "         [0.9, 0.1],\n",
       "         [0.9, 0.1],\n",
       "         [0.9, 0.1],\n",
       "         [0.9, 0.1],\n",
       "         [0.9, 0.1],\n",
       "         [0.9, 0.1],\n",
       "         [0.9, 0.1],\n",
       "         [0.9, 0.1],\n",
       "         [0.9, 0.1],\n",
       "         [0.9, 0.1],\n",
       "         [0.9, 0.1],\n",
       "         [0.9, 0.1],\n",
       "         [0.9, 0.1],\n",
       "         [0.9, 0.1],\n",
       "         [0.9, 0.1],\n",
       "         [0.9, 0.1],\n",
       "         [0.9, 0.1],\n",
       "         [0.9, 0.1],\n",
       "         [0.9, 0.1],\n",
       "         [0.9, 0.1],\n",
       "         [0.9, 0.1],\n",
       "         [0.9, 0.1],\n",
       "         [0.9, 0.1],\n",
       "         [0.9, 0.1],\n",
       "         [0.9, 0.1],\n",
       "         [0.9, 0.1],\n",
       "         [0.9, 0.1],\n",
       "         [0.9, 0.1],\n",
       "         [0.9, 0.1],\n",
       "         [0.9, 0.1],\n",
       "         [0.9, 0.1],\n",
       "         [0.9, 0.1],\n",
       "         [0.9, 0.1],\n",
       "         [0.9, 0.1],\n",
       "         [0.9, 0.1],\n",
       "         [0.9, 0.1],\n",
       "         [0.9, 0.1],\n",
       "         [0.9, 0.1],\n",
       "         [0.9, 0.1],\n",
       "         [0.9, 0.1],\n",
       "         [0.9, 0.1],\n",
       "         [0.9, 0.1],\n",
       "         [0.9, 0.1],\n",
       "         [0.9, 0.1],\n",
       "         [0.9, 0.1],\n",
       "         [0.9, 0.1],\n",
       "         [0.9, 0.1],\n",
       "         [0.9, 0.1],\n",
       "         [0.9, 0.1],\n",
       "         [0.9, 0.1],\n",
       "         [0.9, 0.1],\n",
       "         [0.9, 0.1],\n",
       "         [0.9, 0.1],\n",
       "         [0.9, 0.1],\n",
       "         [0.9, 0.1],\n",
       "         [0.9, 0.1],\n",
       "         [0.9, 0.1],\n",
       "         [0.9, 0.1],\n",
       "         [0.9, 0.1],\n",
       "         [0.9, 0.1],\n",
       "         [0.9, 0.1],\n",
       "         [0.9, 0.1],\n",
       "         [0.9, 0.1],\n",
       "         [0.9, 0.1],\n",
       "         [0.9, 0.1],\n",
       "         [0.9, 0.1],\n",
       "         [0.9, 0.1],\n",
       "         [0.9, 0.1],\n",
       "         [0.9, 0.1]])}}"
      ]
     },
     "execution_count": 10,
     "metadata": {},
     "output_type": "execute_result"
    }
   ],
   "source": [
    "ss.transition_probabilties"
   ]
  },
  {
   "cell_type": "code",
   "execution_count": 11,
   "metadata": {},
   "outputs": [],
   "source": [
    "a = np.arange(4).reshape(2, 2)\n",
    "b = np.arange(4, 8).reshape(2, 2)"
   ]
  },
  {
   "cell_type": "code",
   "execution_count": 12,
   "metadata": {},
   "outputs": [
    {
     "data": {
      "text/plain": [
       "array([[ 0,  0,  0,  0],\n",
       "       [ 4,  5,  6,  7],\n",
       "       [ 8, 10, 12, 14],\n",
       "       [12, 15, 18, 21]])"
      ]
     },
     "execution_count": 12,
     "metadata": {},
     "output_type": "execute_result"
    }
   ],
   "source": [
    "np.outer(a, b)"
   ]
  },
  {
   "cell_type": "code",
   "execution_count": 13,
   "metadata": {},
   "outputs": [
    {
     "data": {
      "text/plain": [
       "array([[0, 1],\n",
       "       [2, 3]])"
      ]
     },
     "execution_count": 13,
     "metadata": {},
     "output_type": "execute_result"
    }
   ],
   "source": [
    "a"
   ]
  },
  {
   "cell_type": "code",
   "execution_count": 14,
   "metadata": {},
   "outputs": [
    {
     "data": {
      "text/plain": [
       "array([[4, 5],\n",
       "       [6, 7]])"
      ]
     },
     "execution_count": 14,
     "metadata": {},
     "output_type": "execute_result"
    }
   ],
   "source": [
    "b"
   ]
  },
  {
   "cell_type": "code",
   "execution_count": 21,
   "metadata": {},
   "outputs": [],
   "source": [
    "a = np.broadcast_to(np.array([0.9, 0.1]), (2, 2))\n",
    "b = np.broadcast_to(np.array([0.5, 0.5]), (2, 2))"
   ]
  },
  {
   "cell_type": "code",
   "execution_count": 22,
   "metadata": {},
   "outputs": [
    {
     "data": {
      "text/plain": [
       "array([[0.45, 0.45, 0.45, 0.45],\n",
       "       [0.05, 0.05, 0.05, 0.05],\n",
       "       [0.45, 0.45, 0.45, 0.45],\n",
       "       [0.05, 0.05, 0.05, 0.05]])"
      ]
     },
     "execution_count": 22,
     "metadata": {},
     "output_type": "execute_result"
    }
   ],
   "source": [
    "np.outer(a, b)"
   ]
  },
  {
   "cell_type": "code",
   "execution_count": null,
   "metadata": {},
   "outputs": [],
   "source": []
  }
 ],
 "metadata": {
  "kernelspec": {
   "display_name": "Python 3",
   "language": "python",
   "name": "python3"
  },
  "language_info": {
   "codemirror_mode": {
    "name": "ipython",
    "version": 3
   },
   "file_extension": ".py",
   "mimetype": "text/x-python",
   "name": "python",
   "nbconvert_exporter": "python",
   "pygments_lexer": "ipython3",
   "version": "3.7.6"
  }
 },
 "nbformat": 4,
 "nbformat_minor": 4
}
