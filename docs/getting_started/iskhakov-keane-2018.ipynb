{
 "cells": [
  {
   "cell_type": "markdown",
   "metadata": {},
   "source": [
    "# Iskhakov and Keane (2018)"
   ]
  },
  {
   "cell_type": "code",
   "execution_count": 1,
   "metadata": {},
   "outputs": [],
   "source": [
    "import numpy as np\n",
    "import numba as nb\n",
    "import pandas as pd"
   ]
  },
  {
   "cell_type": "code",
   "execution_count": 2,
   "metadata": {},
   "outputs": [],
   "source": [
    "HOURS = np.array([0, 20, 40, 45, 50, 60])\n",
    "RELATIVE_HOURS = HOURS / HOURS.max()"
   ]
  },
  {
   "cell_type": "code",
   "execution_count": 11,
   "metadata": {},
   "outputs": [],
   "source": [
    "@nb.njit\n",
    "def compute_period_human_capital(hc_previous_period, choices, period):\n",
    "    container = []\n",
    "    for hc in hc_previous_period:\n",
    "        for choice in choices:\n",
    "            updated_hc = 1 / (period  + 1) * (hc * period + choice)\n",
    "            if updated_hc not in container:\n",
    "                container.append(updated_hc)\n",
    "                \n",
    "    return np.array(container)\n",
    "\n",
    "def compute_unique_human_capitals(choices, n_periods):\n",
    "    container = [np.zeros(1)]\n",
    "\n",
    "    for period in range(n_periods - 1):\n",
    "        human_capitals = compute_period_human_capital(container[period], choices, period)\n",
    "        \n",
    "        container.append(human_capitals)\n",
    "        \n",
    "    return container\n",
    "\n",
    "def create_state_space(n_periods, choices):\n",
    "    per_period_human_capitals = compute_unique_human_capitals(choices, n_periods)\n",
    "    \n",
    "    to_concat = []\n",
    "    for period, human_capitals in enumerate(per_period_human_capitals):\n",
    "        df = pd.DataFrame({\"period\": period, \"human_capital\": human_capitals})\n",
    "        to_concat.append(df)\n",
    "        \n",
    "    df = pd.concat(to_concat)\n",
    "    \n",
    "    return df"
   ]
  },
  {
   "cell_type": "code",
   "execution_count": 12,
   "metadata": {},
   "outputs": [
    {
     "data": {
      "text/html": [
       "<div>\n",
       "<style scoped>\n",
       "    .dataframe tbody tr th:only-of-type {\n",
       "        vertical-align: middle;\n",
       "    }\n",
       "\n",
       "    .dataframe tbody tr th {\n",
       "        vertical-align: top;\n",
       "    }\n",
       "\n",
       "    .dataframe thead th {\n",
       "        text-align: right;\n",
       "    }\n",
       "</style>\n",
       "<table border=\"1\" class=\"dataframe\">\n",
       "  <thead>\n",
       "    <tr style=\"text-align: right;\">\n",
       "      <th></th>\n",
       "      <th>period</th>\n",
       "      <th>human_capital</th>\n",
       "    </tr>\n",
       "  </thead>\n",
       "  <tbody>\n",
       "    <tr>\n",
       "      <th>0</th>\n",
       "      <td>0</td>\n",
       "      <td>0.000000</td>\n",
       "    </tr>\n",
       "    <tr>\n",
       "      <th>0</th>\n",
       "      <td>1</td>\n",
       "      <td>0.000000</td>\n",
       "    </tr>\n",
       "    <tr>\n",
       "      <th>1</th>\n",
       "      <td>1</td>\n",
       "      <td>0.333333</td>\n",
       "    </tr>\n",
       "    <tr>\n",
       "      <th>2</th>\n",
       "      <td>1</td>\n",
       "      <td>0.666667</td>\n",
       "    </tr>\n",
       "    <tr>\n",
       "      <th>3</th>\n",
       "      <td>1</td>\n",
       "      <td>0.750000</td>\n",
       "    </tr>\n",
       "    <tr>\n",
       "      <th>...</th>\n",
       "      <td>...</td>\n",
       "      <td>...</td>\n",
       "    </tr>\n",
       "    <tr>\n",
       "      <th>8705</th>\n",
       "      <td>39</td>\n",
       "      <td>0.991453</td>\n",
       "    </tr>\n",
       "    <tr>\n",
       "      <th>8706</th>\n",
       "      <td>39</td>\n",
       "      <td>0.989316</td>\n",
       "    </tr>\n",
       "    <tr>\n",
       "      <th>8707</th>\n",
       "      <td>39</td>\n",
       "      <td>0.993590</td>\n",
       "    </tr>\n",
       "    <tr>\n",
       "      <th>8708</th>\n",
       "      <td>39</td>\n",
       "      <td>0.995726</td>\n",
       "    </tr>\n",
       "    <tr>\n",
       "      <th>8709</th>\n",
       "      <td>39</td>\n",
       "      <td>1.000000</td>\n",
       "    </tr>\n",
       "  </tbody>\n",
       "</table>\n",
       "<p>121901 rows × 2 columns</p>\n",
       "</div>"
      ],
      "text/plain": [
       "      period  human_capital\n",
       "0          0       0.000000\n",
       "0          1       0.000000\n",
       "1          1       0.333333\n",
       "2          1       0.666667\n",
       "3          1       0.750000\n",
       "...      ...            ...\n",
       "8705      39       0.991453\n",
       "8706      39       0.989316\n",
       "8707      39       0.993590\n",
       "8708      39       0.995726\n",
       "8709      39       1.000000\n",
       "\n",
       "[121901 rows x 2 columns]"
      ]
     },
     "execution_count": 12,
     "metadata": {},
     "output_type": "execute_result"
    }
   ],
   "source": [
    "create_state_space(40, RELATIVE_HOURS)"
   ]
  },
  {
   "cell_type": "code",
   "execution_count": null,
   "metadata": {},
   "outputs": [],
   "source": []
  }
 ],
 "metadata": {
  "kernelspec": {
   "display_name": "Python 3",
   "language": "python",
   "name": "python3"
  },
  "language_info": {
   "codemirror_mode": {
    "name": "ipython",
    "version": 3
   },
   "file_extension": ".py",
   "mimetype": "text/x-python",
   "name": "python",
   "nbconvert_exporter": "python",
   "pygments_lexer": "ipython3",
   "version": "3.7.3"
  }
 },
 "nbformat": 4,
 "nbformat_minor": 4
}
